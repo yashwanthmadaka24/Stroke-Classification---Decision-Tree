{
 "cells": [
  {
   "cell_type": "code",
   "execution_count": 1,
   "metadata": {},
   "outputs": [],
   "source": [
    "from pyspark.sql import SQLContext\n",
    "from pyspark.sql import DataFrameNaFunctions\n",
    "from pyspark.ml import Pipeline\n",
    "from pyspark.ml.classification import DecisionTreeClassifier\n",
    "from pyspark.ml.classification import LogisticRegression\n",
    "from pyspark.ml.feature import Binarizer\n",
    "from pyspark.ml.feature import OneHotEncoder, VectorAssembler, StringIndexer, VectorIndexer\n",
    "from pyspark.ml.classification import RandomForestClassifier\n",
    "from pyspark.sql.functions import avg\n",
    "\n",
    "import pandas as pd\n",
    "import numpy as np\n",
    "import matplotlib.pyplot as plt\n",
    "%matplotlib inline\n",
    "\n",
    "from pyspark.ml.evaluation import MulticlassClassificationEvaluator\n",
    "from pyspark.mllib.evaluation import MulticlassMetrics\n",
    "from pyspark.ml.evaluation import BinaryClassificationEvaluator\n",
    "\n",
    "from imblearn.over_sampling import SMOTE\n",
    "from imblearn.combine import SMOTEENN\n",
    "from sklearn.model_selection import train_test_split\n",
    "from collections import Counter"
   ]
  },
  {
   "cell_type": "code",
   "execution_count": 2,
   "metadata": {},
   "outputs": [
    {
     "ename": "ValueError",
     "evalue": "Cannot run multiple SparkContexts at once; existing SparkContext(app=PySparkShell, master=yarn) created by <module> at /opt/conda/anaconda/lib/python3.6/site-packages/IPython/utils/py3compat.py:188 ",
     "output_type": "error",
     "traceback": [
      "\u001b[0;31m---------------------------------------------------------------------------\u001b[0m",
      "\u001b[0;31mValueError\u001b[0m                                Traceback (most recent call last)",
      "\u001b[0;32m<ipython-input-2-5796b8bfe42c>\u001b[0m in \u001b[0;36m<module>\u001b[0;34m()\u001b[0m\n\u001b[1;32m      1\u001b[0m \u001b[0;32mfrom\u001b[0m \u001b[0mpyspark\u001b[0m\u001b[0;34m.\u001b[0m\u001b[0mcontext\u001b[0m \u001b[0;32mimport\u001b[0m \u001b[0mSparkContext\u001b[0m\u001b[0;34m\u001b[0m\u001b[0m\n\u001b[1;32m      2\u001b[0m \u001b[0;32mfrom\u001b[0m \u001b[0mpyspark\u001b[0m\u001b[0;34m.\u001b[0m\u001b[0msql\u001b[0m\u001b[0;34m.\u001b[0m\u001b[0msession\u001b[0m \u001b[0;32mimport\u001b[0m \u001b[0mSparkSession\u001b[0m\u001b[0;34m\u001b[0m\u001b[0m\n\u001b[0;32m----> 3\u001b[0;31m \u001b[0msc\u001b[0m \u001b[0;34m=\u001b[0m \u001b[0mSparkContext\u001b[0m\u001b[0;34m(\u001b[0m\u001b[0;34m'local'\u001b[0m\u001b[0;34m)\u001b[0m\u001b[0;34m\u001b[0m\u001b[0m\n\u001b[0m\u001b[1;32m      4\u001b[0m \u001b[0mspark\u001b[0m \u001b[0;34m=\u001b[0m \u001b[0mSparkSession\u001b[0m\u001b[0;34m(\u001b[0m\u001b[0msc\u001b[0m\u001b[0;34m)\u001b[0m\u001b[0;34m\u001b[0m\u001b[0m\n",
      "\u001b[0;32m/usr/lib/spark/python/pyspark/context.py\u001b[0m in \u001b[0;36m__init__\u001b[0;34m(self, master, appName, sparkHome, pyFiles, environment, batchSize, serializer, conf, gateway, jsc, profiler_cls)\u001b[0m\n\u001b[1;32m    131\u001b[0m                     \" note this option will be removed in Spark 3.0\")\n\u001b[1;32m    132\u001b[0m \u001b[0;34m\u001b[0m\u001b[0m\n\u001b[0;32m--> 133\u001b[0;31m         \u001b[0mSparkContext\u001b[0m\u001b[0;34m.\u001b[0m\u001b[0m_ensure_initialized\u001b[0m\u001b[0;34m(\u001b[0m\u001b[0mself\u001b[0m\u001b[0;34m,\u001b[0m \u001b[0mgateway\u001b[0m\u001b[0;34m=\u001b[0m\u001b[0mgateway\u001b[0m\u001b[0;34m,\u001b[0m \u001b[0mconf\u001b[0m\u001b[0;34m=\u001b[0m\u001b[0mconf\u001b[0m\u001b[0;34m)\u001b[0m\u001b[0;34m\u001b[0m\u001b[0m\n\u001b[0m\u001b[1;32m    134\u001b[0m         \u001b[0;32mtry\u001b[0m\u001b[0;34m:\u001b[0m\u001b[0;34m\u001b[0m\u001b[0m\n\u001b[1;32m    135\u001b[0m             self._do_init(master, appName, sparkHome, pyFiles, environment, batchSize, serializer,\n",
      "\u001b[0;32m/usr/lib/spark/python/pyspark/context.py\u001b[0m in \u001b[0;36m_ensure_initialized\u001b[0;34m(cls, instance, gateway, conf)\u001b[0m\n\u001b[1;32m    330\u001b[0m                         \u001b[0;34m\" created by %s at %s:%s \"\u001b[0m\u001b[0;34m\u001b[0m\u001b[0m\n\u001b[1;32m    331\u001b[0m                         % (currentAppName, currentMaster,\n\u001b[0;32m--> 332\u001b[0;31m                             callsite.function, callsite.file, callsite.linenum))\n\u001b[0m\u001b[1;32m    333\u001b[0m                 \u001b[0;32melse\u001b[0m\u001b[0;34m:\u001b[0m\u001b[0;34m\u001b[0m\u001b[0m\n\u001b[1;32m    334\u001b[0m                     \u001b[0mSparkContext\u001b[0m\u001b[0;34m.\u001b[0m\u001b[0m_active_spark_context\u001b[0m \u001b[0;34m=\u001b[0m \u001b[0minstance\u001b[0m\u001b[0;34m\u001b[0m\u001b[0m\n",
      "\u001b[0;31mValueError\u001b[0m: Cannot run multiple SparkContexts at once; existing SparkContext(app=PySparkShell, master=yarn) created by <module> at /opt/conda/anaconda/lib/python3.6/site-packages/IPython/utils/py3compat.py:188 "
     ]
    }
   ],
   "source": [
    "from pyspark.context import SparkContext\n",
    "from pyspark.sql.session import SparkSession\n",
    "sc = SparkContext('local')\n",
    "spark = SparkSession(sc)"
   ]
  },
  {
   "cell_type": "code",
   "execution_count": 3,
   "metadata": {},
   "outputs": [],
   "source": [
    "import os\n",
    "import pickle\n",
    "import requests\n",
    "import json"
   ]
  },
  {
   "cell_type": "code",
   "execution_count": 4,
   "metadata": {},
   "outputs": [
    {
     "data": {
      "text/plain": [
       "['gender',\n",
       " 'age',\n",
       " 'diabetes',\n",
       " 'hypertension',\n",
       " 'stroke',\n",
       " 'heart disease',\n",
       " 'smoking history',\n",
       " 'BMI']"
      ]
     },
     "execution_count": 4,
     "metadata": {},
     "output_type": "execute_result"
    }
   ],
   "source": [
    "input_dir = 'gs://data-stroke-1/'\n",
    "df = spark.read.format('com.databricks.spark.csv').options(header='true', inferschema='true').load(input_dir+'stroke.csv')\n",
    "df.columns"
   ]
  },
  {
   "cell_type": "code",
   "execution_count": 5,
   "metadata": {},
   "outputs": [
    {
     "data": {
      "text/html": [
       "<div>\n",
       "<style scoped>\n",
       "    .dataframe tbody tr th:only-of-type {\n",
       "        vertical-align: middle;\n",
       "    }\n",
       "\n",
       "    .dataframe tbody tr th {\n",
       "        vertical-align: top;\n",
       "    }\n",
       "\n",
       "    .dataframe thead th {\n",
       "        text-align: right;\n",
       "    }\n",
       "</style>\n",
       "<table border=\"1\" class=\"dataframe\">\n",
       "  <thead>\n",
       "    <tr style=\"text-align: right;\">\n",
       "      <th></th>\n",
       "      <th>gender</th>\n",
       "      <th>age</th>\n",
       "      <th>diabetes</th>\n",
       "      <th>hypertension</th>\n",
       "      <th>stroke</th>\n",
       "      <th>heart disease</th>\n",
       "      <th>smoking history</th>\n",
       "      <th>BMI</th>\n",
       "    </tr>\n",
       "  </thead>\n",
       "  <tbody>\n",
       "    <tr>\n",
       "      <th>0</th>\n",
       "      <td>0.0</td>\n",
       "      <td>80.0</td>\n",
       "      <td>0</td>\n",
       "      <td>0</td>\n",
       "      <td>0</td>\n",
       "      <td>1</td>\n",
       "      <td>0.0</td>\n",
       "      <td>25.19</td>\n",
       "    </tr>\n",
       "    <tr>\n",
       "      <th>1</th>\n",
       "      <td>0.0</td>\n",
       "      <td>54.0</td>\n",
       "      <td>0</td>\n",
       "      <td>0</td>\n",
       "      <td>0</td>\n",
       "      <td>0</td>\n",
       "      <td>NaN</td>\n",
       "      <td>NaN</td>\n",
       "    </tr>\n",
       "    <tr>\n",
       "      <th>2</th>\n",
       "      <td>1.0</td>\n",
       "      <td>28.0</td>\n",
       "      <td>0</td>\n",
       "      <td>0</td>\n",
       "      <td>0</td>\n",
       "      <td>0</td>\n",
       "      <td>0.0</td>\n",
       "      <td>NaN</td>\n",
       "    </tr>\n",
       "    <tr>\n",
       "      <th>3</th>\n",
       "      <td>0.0</td>\n",
       "      <td>36.0</td>\n",
       "      <td>0</td>\n",
       "      <td>0</td>\n",
       "      <td>0</td>\n",
       "      <td>0</td>\n",
       "      <td>1.0</td>\n",
       "      <td>23.45</td>\n",
       "    </tr>\n",
       "    <tr>\n",
       "      <th>4</th>\n",
       "      <td>1.0</td>\n",
       "      <td>76.0</td>\n",
       "      <td>0</td>\n",
       "      <td>1</td>\n",
       "      <td>0</td>\n",
       "      <td>1</td>\n",
       "      <td>1.0</td>\n",
       "      <td>20.14</td>\n",
       "    </tr>\n",
       "  </tbody>\n",
       "</table>\n",
       "</div>"
      ],
      "text/plain": [
       "   gender   age  diabetes  hypertension  stroke  heart disease  \\\n",
       "0     0.0  80.0         0             0       0              1   \n",
       "1     0.0  54.0         0             0       0              0   \n",
       "2     1.0  28.0         0             0       0              0   \n",
       "3     0.0  36.0         0             0       0              0   \n",
       "4     1.0  76.0         0             1       0              1   \n",
       "\n",
       "   smoking history    BMI  \n",
       "0              0.0  25.19  \n",
       "1              NaN    NaN  \n",
       "2              0.0    NaN  \n",
       "3              1.0  23.45  \n",
       "4              1.0  20.14  "
      ]
     },
     "execution_count": 5,
     "metadata": {},
     "output_type": "execute_result"
    }
   ],
   "source": [
    "pd.DataFrame(df.take(5), columns=df.columns)"
   ]
  },
  {
   "cell_type": "code",
   "execution_count": 6,
   "metadata": {},
   "outputs": [],
   "source": [
    "featureColumns = ['gender','age',\n",
    " 'diabetes',\n",
    " 'hypertension',\n",
    " 'heart disease',\n",
    " 'smoking history',\n",
    " 'BMI']"
   ]
  },
  {
   "cell_type": "code",
   "execution_count": 7,
   "metadata": {},
   "outputs": [
    {
     "name": "stdout",
     "output_type": "stream",
     "text": [
      "root\n",
      " |-- gender: double (nullable = true)\n",
      " |-- age: double (nullable = true)\n",
      " |-- diabetes: integer (nullable = true)\n",
      " |-- hypertension: integer (nullable = true)\n",
      " |-- stroke: integer (nullable = true)\n",
      " |-- heart disease: integer (nullable = true)\n",
      " |-- smoking history: double (nullable = true)\n",
      " |-- BMI: double (nullable = true)\n",
      "\n"
     ]
    }
   ],
   "source": [
    "df.printSchema()"
   ]
  },
  {
   "cell_type": "code",
   "execution_count": 8,
   "metadata": {},
   "outputs": [
    {
     "data": {
      "text/plain": [
       "96713"
      ]
     },
     "execution_count": 8,
     "metadata": {},
     "output_type": "execute_result"
    }
   ],
   "source": [
    "df = df.filter(df.age >2)\n",
    "df.count()"
   ]
  },
  {
   "cell_type": "markdown",
   "metadata": {},
   "source": [
    "## Print the Type of Classes Present"
   ]
  },
  {
   "cell_type": "code",
   "execution_count": 9,
   "metadata": {},
   "outputs": [
    {
     "data": {
      "text/plain": [
       "([<matplotlib.axis.XTick at 0x7fbf0b74ba58>,\n",
       "  <matplotlib.axis.XTick at 0x7fbf5031d0b8>],\n",
       " <a list of 2 Text xticklabel objects>)"
      ]
     },
     "execution_count": 9,
     "metadata": {},
     "output_type": "execute_result"
    },
    {
     "data": {
      "image/png": "[encoded data removed]",
      "text/plain": [
       "<Figure size 432x288 with 1 Axes>"
      ]
     },
     "metadata": {},
     "output_type": "display_data"
    }
   ],
   "source": [
    "responses = df.groupBy('stroke').count().collect()\n",
    "categories = [i[0] for i in responses]\n",
    "counts = [i[1] for i in responses]\n",
    " \n",
    "ind = np.array(range(len(categories)))\n",
    "width = 0.35\n",
    "plt.bar(ind, counts, width=width, color='r')\n",
    " \n",
    "plt.ylabel('counts')\n",
    "plt.title('Stroke')\n",
    "plt.xticks(ind + width/2., categories)"
   ]
  },
  {
   "cell_type": "markdown",
   "metadata": {},
   "source": [
    "## Missing Data Management"
   ]
  },
  {
   "cell_type": "code",
   "execution_count": 10,
   "metadata": {},
   "outputs": [],
   "source": [
    "removeAllDF = df.na.drop()"
   ]
  },
  {
   "cell_type": "code",
   "execution_count": 11,
   "metadata": {},
   "outputs": [
    {
     "name": "stdout",
     "output_type": "stream",
     "text": [
      "+-------+-----------------+\n",
      "|summary|              BMI|\n",
      "+-------+-----------------+\n",
      "|  count|            51910|\n",
      "|   mean|28.73434540550936|\n",
      "| stddev|7.176299150987031|\n",
      "|    min|            10.08|\n",
      "|    max|            91.82|\n",
      "+-------+-----------------+\n",
      "\n"
     ]
    }
   ],
   "source": [
    "removeAllDF.describe(['BMI']).show()"
   ]
  },
  {
   "cell_type": "code",
   "execution_count": 12,
   "metadata": {},
   "outputs": [
    {
     "data": {
      "text/plain": [
       "51910"
      ]
     },
     "execution_count": 12,
     "metadata": {},
     "output_type": "execute_result"
    }
   ],
   "source": [
    "removeAllDF.count()"
   ]
  },
  {
   "cell_type": "code",
   "execution_count": 13,
   "metadata": {},
   "outputs": [],
   "source": [
    "imputeDF = df\n",
    "# imputeDF = imputeDF.drop('smoking history')"
   ]
  },
  {
   "cell_type": "code",
   "execution_count": 14,
   "metadata": {},
   "outputs": [],
   "source": [
    "# for index,row in imputeDF.toPanda.iterrows():\n",
    "#     print(row)\n",
    "imputeDF_Pandas = imputeDF.toPandas()"
   ]
  },
  {
   "cell_type": "code",
   "execution_count": 15,
   "metadata": {},
   "outputs": [],
   "source": [
    "# for x in imputeDF.columns:\n",
    "#     meanValue = removeAllDF.agg(avg(x)).first()[0]\n",
    "#     print(x, meanValue)\n",
    "#     imputeDF = imputeDF.na.fill(meanValue, [x])\n",
    "    \n",
    "# for x in imputeDF.columns:\n",
    "#     if x == 'BMI':\n",
    "#         if imputeDF.age > 10:\n",
    "#             imputeDF = imputeDF.BMI.fill(10, [x])\n",
    "#         elif imputeDF.age > 10:\n",
    "#             imputeDF = imputeDF.BMI.fill(22, [x])\n",
    "\n",
    "df_2_9 = imputeDF_Pandas[(imputeDF_Pandas['age'] >=2 ) & (imputeDF_Pandas['age'] <= 9)]\n",
    "values = {'smoking history': 0, 'BMI':17.125}\n",
    "df_2_9 = df_2_9.fillna(value = values)\n",
    "\n",
    "df_10_13 = imputeDF_Pandas[(imputeDF_Pandas['age'] >=10 ) & (imputeDF_Pandas['age'] <= 13)]\n",
    "values = {'smoking history': 0, 'BMI':19.5}\n",
    "df_10_13 = df_10_13.fillna(value = values)\n",
    "\n",
    "df_14_17 = imputeDF_Pandas[(imputeDF_Pandas['age'] >=14 ) & (imputeDF_Pandas['age'] <= 17)]\n",
    "values = {'smoking history': 0, 'BMI':23.05}\n",
    "df_14_17 = df_14_17.fillna(value = values)\n",
    "\n",
    "df_18_24 = imputeDF_Pandas[(imputeDF_Pandas['age'] >=18 ) & (imputeDF_Pandas['age'] <= 24)]\n",
    "values = {'smoking history': 0, 'BMI':27.1}\n",
    "df_18_24 = df_18_24.fillna(value = values)\n",
    "\n",
    "df_25_29 = imputeDF_Pandas[(imputeDF_Pandas['age'] >=25 ) & (imputeDF_Pandas['age'] <= 29)]\n",
    "values = {'smoking history': 0, 'BMI':27.9}\n",
    "df_25_29 = df_25_29.fillna(value = values)\n",
    "\n",
    "df_30_34 = imputeDF_Pandas[(imputeDF_Pandas['age'] >=30 ) & (imputeDF_Pandas['age'] <= 34)]\n",
    "values = {'smoking history': 0.25, 'BMI':29.6}\n",
    "df_30_34 = df_30_34.fillna(value = values)\n",
    "\n",
    "df_35_44 = imputeDF_Pandas[(imputeDF_Pandas['age'] >=35 ) & (imputeDF_Pandas['age'] <= 44)]\n",
    "values = {'smoking history': 0.25, 'BMI':30.15}\n",
    "df_35_44 = df_35_44.fillna(value = values)\n",
    "\n",
    "df_45_49 = imputeDF_Pandas[(imputeDF_Pandas['age'] >=45 ) & (imputeDF_Pandas['age'] <= 49)]\n",
    "values = {'smoking history': 0, 'BMI':29.7}\n",
    "df_45_49 = df_45_49.fillna(value = values)\n",
    "\n",
    "df_50_59 = imputeDF_Pandas[(imputeDF_Pandas['age'] >=50 ) & (imputeDF_Pandas['age'] <= 59)]\n",
    "values = {'smoking history': 0, 'BMI':29.95}\n",
    "df_50_59 = df_50_59.fillna(value = values)\n",
    "\n",
    "df_60_74 = imputeDF_Pandas[(imputeDF_Pandas['age'] >=60 ) & (imputeDF_Pandas['age'] <= 74)]\n",
    "values = {'smoking history': 0, 'BMI':30.1}\n",
    "df_60_74 = df_60_74.fillna(value = values)\n",
    "\n",
    "df_75_plus = imputeDF_Pandas[(imputeDF_Pandas['age'] >75 )]\n",
    "values = {'smoking history': 0, 'BMI':28.1}\n",
    "df_75_plus = df_75_plus.fillna(value = values)"
   ]
  },
  {
   "cell_type": "code",
   "execution_count": 16,
   "metadata": {},
   "outputs": [],
   "source": [
    "all_frames = [df_2_9, df_10_13, df_14_17, df_18_24, df_25_29, df_30_34, df_35_44, df_45_49, df_50_59, df_60_74, df_75_plus]\n",
    "df_combined = pd.concat(all_frames)"
   ]
  },
  {
   "cell_type": "code",
   "execution_count": 17,
   "metadata": {},
   "outputs": [],
   "source": [
    "df_combined_converted = spark.createDataFrame(df_combined)\n",
    "imputeDF = df_combined_converted"
   ]
  },
  {
   "cell_type": "code",
   "execution_count": 18,
   "metadata": {},
   "outputs": [
    {
     "name": "stdout",
     "output_type": "stream",
     "text": [
      "+-------+------------------+\n",
      "|summary|               BMI|\n",
      "+-------+------------------+\n",
      "|  count|             71655|\n",
      "|   mean|27.731837834065807|\n",
      "| stddev| 7.537126985853238|\n",
      "|    min|             10.01|\n",
      "|    max|             95.69|\n",
      "+-------+------------------+\n",
      "\n",
      "+-------+------------------+\n",
      "|summary|               BMI|\n",
      "+-------+------------------+\n",
      "|  count|             95992|\n",
      "|   mean|27.835780273353016|\n",
      "| stddev| 6.720075167959109|\n",
      "|    min|             10.01|\n",
      "|    max|             95.69|\n",
      "+-------+------------------+\n",
      "\n"
     ]
    }
   ],
   "source": [
    "df.describe(['BMI']).show()\n",
    "imputeDF.describe(['BMI']).show()"
   ]
  },
  {
   "cell_type": "code",
   "execution_count": 19,
   "metadata": {},
   "outputs": [
    {
     "name": "stdout",
     "output_type": "stream",
     "text": [
      "+-------+-------------------+\n",
      "|summary|    smoking history|\n",
      "+-------+-------------------+\n",
      "|  count|              63873|\n",
      "|   mean|  0.320941555899989|\n",
      "| stddev|0.39194071654046597|\n",
      "|    min|                0.0|\n",
      "|    max|                1.0|\n",
      "+-------+-------------------+\n",
      "\n",
      "+-------+-------------------+\n",
      "|summary|    smoking history|\n",
      "+-------+-------------------+\n",
      "|  count|              95992|\n",
      "|   mean|0.22577141845153761|\n",
      "| stddev| 0.3490975672249249|\n",
      "|    min|                0.0|\n",
      "|    max|                1.0|\n",
      "+-------+-------------------+\n",
      "\n"
     ]
    }
   ],
   "source": [
    "df.describe(['smoking history']).show()\n",
    "imputeDF.describe(['smoking history']).show()"
   ]
  },
  {
   "cell_type": "code",
   "execution_count": 20,
   "metadata": {},
   "outputs": [
    {
     "data": {
      "text/html": [
       "<div>\n",
       "<style scoped>\n",
       "    .dataframe tbody tr th:only-of-type {\n",
       "        vertical-align: middle;\n",
       "    }\n",
       "\n",
       "    .dataframe tbody tr th {\n",
       "        vertical-align: top;\n",
       "    }\n",
       "\n",
       "    .dataframe thead th {\n",
       "        text-align: right;\n",
       "    }\n",
       "</style>\n",
       "<table border=\"1\" class=\"dataframe\">\n",
       "  <thead>\n",
       "    <tr style=\"text-align: right;\">\n",
       "      <th></th>\n",
       "      <th>gender</th>\n",
       "      <th>age</th>\n",
       "      <th>diabetes</th>\n",
       "      <th>hypertension</th>\n",
       "      <th>stroke</th>\n",
       "      <th>heart disease</th>\n",
       "      <th>smoking history</th>\n",
       "      <th>BMI</th>\n",
       "    </tr>\n",
       "  </thead>\n",
       "  <tbody>\n",
       "    <tr>\n",
       "      <th>0</th>\n",
       "      <td>1.0</td>\n",
       "      <td>5.0</td>\n",
       "      <td>0</td>\n",
       "      <td>0</td>\n",
       "      <td>0</td>\n",
       "      <td>0</td>\n",
       "      <td>0.0</td>\n",
       "      <td>18.800</td>\n",
       "    </tr>\n",
       "    <tr>\n",
       "      <th>1</th>\n",
       "      <td>0.0</td>\n",
       "      <td>4.0</td>\n",
       "      <td>0</td>\n",
       "      <td>0</td>\n",
       "      <td>0</td>\n",
       "      <td>0</td>\n",
       "      <td>0.0</td>\n",
       "      <td>13.990</td>\n",
       "    </tr>\n",
       "    <tr>\n",
       "      <th>2</th>\n",
       "      <td>1.0</td>\n",
       "      <td>5.0</td>\n",
       "      <td>0</td>\n",
       "      <td>0</td>\n",
       "      <td>0</td>\n",
       "      <td>0</td>\n",
       "      <td>0.0</td>\n",
       "      <td>15.100</td>\n",
       "    </tr>\n",
       "    <tr>\n",
       "      <th>3</th>\n",
       "      <td>1.0</td>\n",
       "      <td>5.0</td>\n",
       "      <td>0</td>\n",
       "      <td>0</td>\n",
       "      <td>0</td>\n",
       "      <td>0</td>\n",
       "      <td>0.0</td>\n",
       "      <td>17.125</td>\n",
       "    </tr>\n",
       "    <tr>\n",
       "      <th>4</th>\n",
       "      <td>0.0</td>\n",
       "      <td>3.0</td>\n",
       "      <td>0</td>\n",
       "      <td>0</td>\n",
       "      <td>0</td>\n",
       "      <td>0</td>\n",
       "      <td>0.0</td>\n",
       "      <td>19.270</td>\n",
       "    </tr>\n",
       "  </tbody>\n",
       "</table>\n",
       "</div>"
      ],
      "text/plain": [
       "   gender  age  diabetes  hypertension  stroke  heart disease  \\\n",
       "0     1.0  5.0         0             0       0              0   \n",
       "1     0.0  4.0         0             0       0              0   \n",
       "2     1.0  5.0         0             0       0              0   \n",
       "3     1.0  5.0         0             0       0              0   \n",
       "4     0.0  3.0         0             0       0              0   \n",
       "\n",
       "   smoking history     BMI  \n",
       "0              0.0  18.800  \n",
       "1              0.0  13.990  \n",
       "2              0.0  15.100  \n",
       "3              0.0  17.125  \n",
       "4              0.0  19.270  "
      ]
     },
     "execution_count": 20,
     "metadata": {},
     "output_type": "execute_result"
    }
   ],
   "source": [
    "type(imputeDF)\n",
    "pd.DataFrame(imputeDF.take(5), columns=imputeDF.columns)"
   ]
  },
  {
   "cell_type": "code",
   "execution_count": 21,
   "metadata": {},
   "outputs": [
    {
     "data": {
      "text/plain": [
       "pyspark.sql.dataframe.DataFrame"
      ]
     },
     "execution_count": 21,
     "metadata": {},
     "output_type": "execute_result"
    }
   ],
   "source": [
    "type(imputeDF)"
   ]
  },
  {
   "cell_type": "code",
   "execution_count": 22,
   "metadata": {},
   "outputs": [],
   "source": [
    "# A = {'A' : binarizedDF.gender, 'B' : binarizedDF.age, 'C' : binarizedDF.diabetes}\n",
    "# B = {'A' : binarizedDF.stroke, 'B' : binarizedDF.label}\n",
    "\n",
    "\n",
    "X = imputeDF.toPandas().filter(items=['gender', 'age', 'diabetes','hypertension','heart disease','smoking history','BMI'])\n",
    "Y = imputeDF.toPandas().filter(items=['stroke'])"
   ]
  },
  {
   "cell_type": "code",
   "execution_count": 23,
   "metadata": {},
   "outputs": [
    {
     "data": {
      "text/plain": [
       "((95992, 7), (95992, 1))"
      ]
     },
     "execution_count": 23,
     "metadata": {},
     "output_type": "execute_result"
    }
   ],
   "source": [
    "X.shape, Y.shape"
   ]
  },
  {
   "cell_type": "code",
   "execution_count": 24,
   "metadata": {},
   "outputs": [
    {
     "name": "stdout",
     "output_type": "stream",
     "text": [
      "Class labels: [0 1]\n"
     ]
    }
   ],
   "source": [
    "print('Class labels:', np.unique(Y))"
   ]
  },
  {
   "cell_type": "code",
   "execution_count": 25,
   "metadata": {},
   "outputs": [],
   "source": [
    "X_train, X_test, Y_train, Y_test = train_test_split(X, Y, test_size=0.1, random_state=0)"
   ]
  },
  {
   "cell_type": "code",
   "execution_count": 26,
   "metadata": {},
   "outputs": [
    {
     "data": {
      "text/plain": [
       "pandas.core.frame.DataFrame"
      ]
     },
     "execution_count": 26,
     "metadata": {},
     "output_type": "execute_result"
    }
   ],
   "source": [
    "type(X_train)"
   ]
  },
  {
   "cell_type": "code",
   "execution_count": 27,
   "metadata": {},
   "outputs": [
    {
     "data": {
      "text/plain": [
       "(Index(['gender', 'age', 'diabetes', 'hypertension', 'heart disease',\n",
       "        'smoking history', 'BMI'],\n",
       "       dtype='object'), Index(['stroke'], dtype='object'))"
      ]
     },
     "execution_count": 27,
     "metadata": {},
     "output_type": "execute_result"
    }
   ],
   "source": [
    "X_train.columns, Y_train.columns"
   ]
  },
  {
   "cell_type": "markdown",
   "metadata": {},
   "source": [
    "## SMOTE - For Resampling the Minority Class"
   ]
  },
  {
   "cell_type": "code",
   "execution_count": 28,
   "metadata": {},
   "outputs": [],
   "source": [
    "sm = SMOTE(random_state=12, ratio = 'auto', kind = 'regular')"
   ]
  },
  {
   "cell_type": "code",
   "execution_count": 29,
   "metadata": {},
   "outputs": [
    {
     "name": "stderr",
     "output_type": "stream",
     "text": [
      "/opt/conda/anaconda/lib/python3.6/site-packages/sklearn/utils/validation.py:578: DataConversionWarning: A column-vector y was passed when a 1d array was expected. Please change the shape of y to (n_samples, ), for example using ravel().\n",
      "  y = column_or_1d(y, warn=True)\n"
     ]
    },
    {
     "name": "stdout",
     "output_type": "stream",
     "text": [
      "Resampled dataset shape Counter({0: 85150, 1: 85150})\n"
     ]
    }
   ],
   "source": [
    "x_train_res, y_train_res = sm.fit_sample(X_train, Y_train)\n",
    "\n",
    "print('Resampled dataset shape {}'.format(Counter(y_train_res)))"
   ]
  },
  {
   "cell_type": "code",
   "execution_count": 30,
   "metadata": {},
   "outputs": [],
   "source": [
    "# x_train_res"
   ]
  },
  {
   "cell_type": "markdown",
   "metadata": {},
   "source": [
    "## Combining Resampled Data into One Spark Dataframe"
   ]
  },
  {
   "cell_type": "code",
   "execution_count": 31,
   "metadata": {},
   "outputs": [],
   "source": [
    "# dataset = pd.DataFrame({'age':x_train_res[0], 'diabetes':x_train_res[1],'hypertension':x_train_res[2],'heart disease':x_train_res[3],'smoking history':x_train_res[4],'BMI':x_train_res[5]})\n",
    "# print(dataset)\n",
    "dataframe_1 = pd.DataFrame(x_train_res,columns=['gender', 'age', 'diabetes', 'hypertension', 'heart disease', 'smoking history', 'BMI'])\n",
    "dataframe_2 = pd.DataFrame(y_train_res, columns = ['stroke'])\n",
    "\n",
    "# frames = [dataframe_1, dataframe_2]\n",
    "result = dataframe_1.combine_first(dataframe_2)"
   ]
  },
  {
   "cell_type": "code",
   "execution_count": 32,
   "metadata": {},
   "outputs": [
    {
     "data": {
      "text/plain": [
       "pandas.core.frame.DataFrame"
      ]
     },
     "execution_count": 32,
     "metadata": {},
     "output_type": "execute_result"
    }
   ],
   "source": [
    "type(result)"
   ]
  },
  {
   "cell_type": "code",
   "execution_count": 33,
   "metadata": {},
   "outputs": [],
   "source": [
    "# result"
   ]
  },
  {
   "cell_type": "code",
   "execution_count": 34,
   "metadata": {},
   "outputs": [],
   "source": [
    "imputeDF_1 = spark.createDataFrame(result)\n",
    "testDF = spark.createDataFrame(result)"
   ]
  },
  {
   "cell_type": "code",
   "execution_count": 35,
   "metadata": {},
   "outputs": [
    {
     "data": {
      "text/plain": [
       "pyspark.sql.dataframe.DataFrame"
      ]
     },
     "execution_count": 35,
     "metadata": {},
     "output_type": "execute_result"
    }
   ],
   "source": [
    "type(imputeDF_1)"
   ]
  },
  {
   "cell_type": "markdown",
   "metadata": {},
   "source": [
    "## Checking the Resampled Data"
   ]
  },
  {
   "cell_type": "code",
   "execution_count": 36,
   "metadata": {},
   "outputs": [
    {
     "data": {
      "text/plain": [
       "([<matplotlib.axis.XTick at 0x7fbf00af05f8>,\n",
       "  <matplotlib.axis.XTick at 0x7fbf00af7d30>],\n",
       " <a list of 2 Text xticklabel objects>)"
      ]
     },
     "execution_count": 36,
     "metadata": {},
     "output_type": "execute_result"
    },
    {
     "data": {
      "image/png": "[encoded data removed]",
      "text/plain": [
       "<Figure size 432x288 with 1 Axes>"
      ]
     },
     "metadata": {},
     "output_type": "display_data"
    }
   ],
   "source": [
    "responses = imputeDF_1.groupBy('stroke').count().collect()\n",
    "categories = [i[0] for i in responses]\n",
    "counts = [i[1] for i in responses]\n",
    " \n",
    "ind = np.array(range(len(categories)))\n",
    "width = 0.35\n",
    "plt.bar(ind, counts, width=width, color='r')\n",
    " \n",
    "plt.ylabel('counts')\n",
    "plt.title('Stroke')\n",
    "plt.xticks(ind + width/2., categories)"
   ]
  },
  {
   "cell_type": "markdown",
   "metadata": {},
   "source": [
    "## Creating Assembler"
   ]
  },
  {
   "cell_type": "code",
   "execution_count": 37,
   "metadata": {},
   "outputs": [],
   "source": [
    "binarizer = Binarizer(threshold=0.0, inputCol=\"stroke\", outputCol=\"label\")\n",
    "binarizedDF = binarizer.transform(imputeDF_1)"
   ]
  },
  {
   "cell_type": "code",
   "execution_count": 38,
   "metadata": {},
   "outputs": [
    {
     "name": "stdout",
     "output_type": "stream",
     "text": [
      "+------+-----+\n",
      "|stroke|label|\n",
      "+------+-----+\n",
      "|   0.0|  0.0|\n",
      "|   0.0|  0.0|\n",
      "|   0.0|  0.0|\n",
      "|   0.0|  0.0|\n",
      "+------+-----+\n",
      "only showing top 4 rows\n",
      "\n"
     ]
    }
   ],
   "source": [
    "binarizedDF.select(\"stroke\", \"label\").show(4)"
   ]
  },
  {
   "cell_type": "code",
   "execution_count": 39,
   "metadata": {},
   "outputs": [],
   "source": [
    "binarizedDF = binarizedDF.drop('stroke')"
   ]
  },
  {
   "cell_type": "code",
   "execution_count": 40,
   "metadata": {},
   "outputs": [
    {
     "name": "stdout",
     "output_type": "stream",
     "text": [
      "root\n",
      " |-- BMI: double (nullable = true)\n",
      " |-- age: double (nullable = true)\n",
      " |-- diabetes: double (nullable = true)\n",
      " |-- gender: double (nullable = true)\n",
      " |-- heart disease: double (nullable = true)\n",
      " |-- hypertension: double (nullable = true)\n",
      " |-- smoking history: double (nullable = true)\n",
      " |-- label: double (nullable = true)\n",
      "\n"
     ]
    }
   ],
   "source": [
    "binarizedDF.printSchema()"
   ]
  },
  {
   "cell_type": "code",
   "execution_count": 41,
   "metadata": {},
   "outputs": [],
   "source": [
    "assembler = VectorAssembler(inputCols = featureColumns, outputCol = \"features\")\n",
    "assembled = assembler.transform(binarizedDF)"
   ]
  },
  {
   "cell_type": "code",
   "execution_count": 42,
   "metadata": {},
   "outputs": [
    {
     "name": "stdout",
     "output_type": "stream",
     "text": [
      "DataFrame[BMI: double, age: double, diabetes: double, gender: double, heart disease: double, hypertension: double, smoking history: double, label: double, features: vector]\n"
     ]
    }
   ],
   "source": [
    "print(assembled)"
   ]
  },
  {
   "cell_type": "markdown",
   "metadata": {},
   "source": [
    "# Splitting Data"
   ]
  },
  {
   "cell_type": "code",
   "execution_count": 43,
   "metadata": {},
   "outputs": [],
   "source": [
    "(trainingData, testData) = assembled.randomSplit([0.7, 0.3], seed=13234)"
   ]
  },
  {
   "cell_type": "code",
   "execution_count": 44,
   "metadata": {},
   "outputs": [
    {
     "data": {
      "text/plain": [
       "(119224, 51076)"
      ]
     },
     "execution_count": 44,
     "metadata": {},
     "output_type": "execute_result"
    }
   ],
   "source": [
    "trainingData.count(), testData.count()"
   ]
  },
  {
   "cell_type": "markdown",
   "metadata": {},
   "source": [
    "## Training"
   ]
  },
  {
   "cell_type": "code",
   "execution_count": 45,
   "metadata": {},
   "outputs": [],
   "source": [
    "dt = DecisionTreeClassifier(labelCol=\"label\", featuresCol=\"features\", maxDepth=25, minInstancesPerNode=30, impurity=\"gini\")\n",
    "pipeline = Pipeline(stages=[dt])\n",
    "model = pipeline.fit(trainingData)"
   ]
  },
  {
   "cell_type": "markdown",
   "metadata": {},
   "source": [
    "## Testing"
   ]
  },
  {
   "cell_type": "code",
   "execution_count": 46,
   "metadata": {},
   "outputs": [],
   "source": [
    "predictions = model.transform(testData)"
   ]
  },
  {
   "cell_type": "markdown",
   "metadata": {},
   "source": [
    "## AUC"
   ]
  },
  {
   "cell_type": "code",
   "execution_count": 47,
   "metadata": {},
   "outputs": [
    {
     "name": "stdout",
     "output_type": "stream",
     "text": [
      "Test Data Aread under ROC score is :  0.9810916421133257\n"
     ]
    }
   ],
   "source": [
    "from pyspark.mllib.evaluation import BinaryClassificationMetrics as metric\n",
    "results = predictions.select(['probability', 'label'])\n",
    " \n",
    "## prepare score-label set\n",
    "results_collect = results.collect()\n",
    "results_list = [(float(i[0][0]), 1.0-float(i[1])) for i in results_collect]\n",
    "scoreAndLabels = sc.parallelize(results_list)\n",
    " \n",
    "metrics = metric(scoreAndLabels)\n",
    "print(\"Test Data Aread under ROC score is : \", metrics.areaUnderROC)"
   ]
  },
  {
   "cell_type": "markdown",
   "metadata": {},
   "source": [
    "## ROC"
   ]
  },
  {
   "cell_type": "code",
   "execution_count": 48,
   "metadata": {},
   "outputs": [
    {
     "data": {
      "image/png": "[encoded data removed]",
      "text/plain": [
       "<Figure size 432x288 with 1 Axes>"
      ]
     },
     "metadata": {},
     "output_type": "display_data"
    }
   ],
   "source": [
    "from sklearn.metrics import roc_curve, auc\n",
    " \n",
    "fpr = dict()\n",
    "tpr = dict()\n",
    "roc_auc = dict()\n",
    " \n",
    "y_test = [i[1] for i in results_list]\n",
    "y_score = [i[0] for i in results_list]\n",
    " \n",
    "fpr, tpr, _ = roc_curve(y_test, y_score)\n",
    "roc_auc = auc(fpr, tpr)\n",
    " \n",
    "%matplotlib inline\n",
    "plt.figure()\n",
    "plt.plot(fpr, tpr, label='ROC curve (area = %0.2f)' % roc_auc)\n",
    "plt.plot([0, 1], [0, 1], 'k--')\n",
    "plt.xlim([0.0, 1.0])\n",
    "plt.ylim([0.0, 1.05])\n",
    "plt.xlabel('False Positive Rate')\n",
    "plt.ylabel('True Positive Rate')\n",
    "plt.title('Receiver operating characteristic Graph')\n",
    "plt.legend(loc=\"lower right\")\n",
    "plt.show()"
   ]
  },
  {
   "cell_type": "code",
   "execution_count": 49,
   "metadata": {},
   "outputs": [],
   "source": [
    "## Distributions of Predictions"
   ]
  },
  {
   "cell_type": "code",
   "execution_count": 50,
   "metadata": {},
   "outputs": [
    {
     "name": "stderr",
     "output_type": "stream",
     "text": [
      "/opt/conda/anaconda/lib/python3.6/site-packages/matplotlib/axes/_axes.py:6462: UserWarning: The 'normed' kwarg is deprecated, and has been replaced by the 'density' kwarg.\n",
      "  warnings.warn(\"The 'normed' kwarg is deprecated, and has been \"\n"
     ]
    },
    {
     "data": {
      "image/png": "[encoded data removed]",
      "text/plain": [
       "<Figure size 432x288 with 1 Axes>"
      ]
     },
     "metadata": {},
     "output_type": "display_data"
    },
    {
     "data": {
      "image/png": "[encoded data removed]",
      "text/plain": [
       "<Figure size 432x288 with 1 Axes>"
      ]
     },
     "metadata": {},
     "output_type": "display_data"
    }
   ],
   "source": [
    "all_probs = predictions.select(\"probability\").collect()\n",
    "pos_probs = [i[0][0] for i in all_probs]\n",
    "neg_probs = [i[0][1] for i in all_probs]\n",
    " \n",
    "from matplotlib import pyplot as plt\n",
    "%matplotlib inline\n",
    " \n",
    "# pos\n",
    "plt.hist(pos_probs, 50, normed=1, facecolor='green', alpha=0.75)\n",
    "plt.xlabel('predicted_values')\n",
    "plt.ylabel('Counts')\n",
    "plt.title('Probabilities for 1 value cases')\n",
    "plt.grid(True)\n",
    "plt.show()\n",
    " \n",
    "# neg\n",
    "plt.hist(neg_probs, 50, normed=1, facecolor='green', alpha=0.75)\n",
    "plt.xlabel('predicted_values')\n",
    "plt.ylabel('Counts')\n",
    "plt.title('Probabilities for 0 value cases')\n",
    "plt.grid(True)\n",
    "plt.show()"
   ]
  },
  {
   "cell_type": "code",
   "execution_count": 51,
   "metadata": {},
   "outputs": [],
   "source": [
    "# predictions.select(\"prediction\", \"label\", 'rawPrediction', 'probability').show(10)"
   ]
  },
  {
   "cell_type": "code",
   "execution_count": 52,
   "metadata": {},
   "outputs": [],
   "source": [
    "# evaluator = BinaryClassificationEvaluator()\n",
    "# print(\"Test Area Under ROC: \" + str(evaluator.evaluate(predictions, {evaluator.metricName: \"areaUnderROC\"})))"
   ]
  },
  {
   "cell_type": "code",
   "execution_count": 53,
   "metadata": {},
   "outputs": [],
   "source": [
    "# predictions.select(\"prediction\", \"label\").write.save(path=\"file:///home/cloudera/Downloads/big-data-4/predict_100k_dt.csv\",\n",
    "#                                                     format=\"com.databricks.spark.csv\",\n",
    "#                                                     header = 'true')"
   ]
  },
  {
   "cell_type": "code",
   "execution_count": 54,
   "metadata": {},
   "outputs": [],
   "source": [
    "# Saving model to disk\n",
    "# out_dir = 'gs://data-stroke/result/'\n",
    "# path = input_dir+'model'\n",
    "# model.save(path)"
   ]
  },
  {
   "cell_type": "code",
   "execution_count": 55,
   "metadata": {},
   "outputs": [],
   "source": [
    "# serialized_model = model.stages[0]._call_java('toDebugString')# Select example rows to display.\n",
    "# predictions.select(\"prediction\", \"indexedLabel\", \"features\").show(5)"
   ]
  },
  {
   "cell_type": "code",
   "execution_count": 56,
   "metadata": {},
   "outputs": [
    {
     "name": "stdout",
     "output_type": "stream",
     "text": [
      "Test Area Under ROC: 0.9319000463687693\n"
     ]
    }
   ],
   "source": [
    "evaluator = BinaryClassificationEvaluator()\n",
    "print(\"Test Area Under ROC: \" + str(evaluator.evaluate(predictions, {evaluator.metricName: \"areaUnderROC\"})))"
   ]
  },
  {
   "cell_type": "code",
   "execution_count": 57,
   "metadata": {},
   "outputs": [
    {
     "name": "stdout",
     "output_type": "stream",
     "text": [
      "Test Area Under ROC: 0.9319000463687693\n",
      "0.9319000463687694\n",
      "Test Error = 0.0681 \n",
      "DecisionTreeClassificationModel (uid=DecisionTreeClassifier_daef1f11a307) of depth 17 with 837 nodes\n"
     ]
    }
   ],
   "source": [
    "# Select (prediction, true label) and compute test error\n",
    "# evaluator = MulticlassClassificationEvaluator(\n",
    "#     labelCol=\"label\", predictionCol=\"prediction\", metricName=\"accuracy\")\n",
    "evaluator = BinaryClassificationEvaluator()\n",
    "print(\"Test Area Under ROC: \" + str(evaluator.evaluate(predictions, {evaluator.metricName: \"areaUnderROC\"})))\n",
    "accuracy = evaluator.evaluate(predictions)\n",
    "print(accuracy)\n",
    "print(\"Test Error = %g \" % (1.0 - accuracy))\n",
    "\n",
    "treeModel = model.stages[0]\n",
    "# summary only\n",
    "print(treeModel)"
   ]
  },
  {
   "cell_type": "code",
   "execution_count": null,
   "metadata": {},
   "outputs": [],
   "source": []
  },
  {
   "cell_type": "code",
   "execution_count": null,
   "metadata": {},
   "outputs": [],
   "source": []
  },
  {
   "cell_type": "code",
   "execution_count": null,
   "metadata": {},
   "outputs": [],
   "source": []
  },
  {
   "cell_type": "code",
   "execution_count": null,
   "metadata": {},
   "outputs": [],
   "source": []
  },
  {
   "cell_type": "code",
   "execution_count": null,
   "metadata": {},
   "outputs": [],
   "source": []
  },
  {
   "cell_type": "code",
   "execution_count": null,
   "metadata": {},
   "outputs": [],
   "source": []
  },
  {
   "cell_type": "code",
   "execution_count": 61,
   "metadata": {},
   "outputs": [],
   "source": [
    "# pd.DataFrame(testData.take(5), columns=testData.columns).transpose()\n",
    "testData_1 = testData\n",
    "testData_1 = testData_1.drop('gender','age','diabetes','hypertension','heart disease','smoking history','BMI')\n",
    "testData_1 = testData_1.toPandas()"
   ]
  },
  {
   "cell_type": "code",
   "execution_count": 62,
   "metadata": {},
   "outputs": [
    {
     "data": {
      "text/html": [
       "<div>\n",
       "<style scoped>\n",
       "    .dataframe tbody tr th:only-of-type {\n",
       "        vertical-align: middle;\n",
       "    }\n",
       "\n",
       "    .dataframe tbody tr th {\n",
       "        vertical-align: top;\n",
       "    }\n",
       "\n",
       "    .dataframe thead th {\n",
       "        text-align: right;\n",
       "    }\n",
       "</style>\n",
       "<table border=\"1\" class=\"dataframe\">\n",
       "  <thead>\n",
       "    <tr style=\"text-align: right;\">\n",
       "      <th></th>\n",
       "      <th>label</th>\n",
       "      <th>features</th>\n",
       "    </tr>\n",
       "  </thead>\n",
       "  <tbody>\n",
       "    <tr>\n",
       "      <th>18</th>\n",
       "      <td>1.0</td>\n",
       "      <td>[0.0, 79.0, 0.0, 0.0, 1.0, 1.0, 13.09]</td>\n",
       "    </tr>\n",
       "    <tr>\n",
       "      <th>19</th>\n",
       "      <td>1.0</td>\n",
       "      <td>[0.015105942171135145, 79.01510594217113, 0.0,...</td>\n",
       "    </tr>\n",
       "    <tr>\n",
       "      <th>24</th>\n",
       "      <td>1.0</td>\n",
       "      <td>[0.04232542611935419, 79.04232542611935, 0.0, ...</td>\n",
       "    </tr>\n",
       "    <tr>\n",
       "      <th>28</th>\n",
       "      <td>1.0</td>\n",
       "      <td>[0.1301288902457941, 79.1301288902458, 0.0, 0....</td>\n",
       "    </tr>\n",
       "    <tr>\n",
       "      <th>32</th>\n",
       "      <td>1.0</td>\n",
       "      <td>[0.0, 79.06143731388894, 0.06143731388894791, ...</td>\n",
       "    </tr>\n",
       "    <tr>\n",
       "      <th>35</th>\n",
       "      <td>1.0</td>\n",
       "      <td>[0.0, 79.08104546036333, 0.08104546036332594, ...</td>\n",
       "    </tr>\n",
       "    <tr>\n",
       "      <th>41</th>\n",
       "      <td>1.0</td>\n",
       "      <td>[0.3044429993694, 79.3044429993694, 0.0, 0.0, ...</td>\n",
       "    </tr>\n",
       "    <tr>\n",
       "      <th>42</th>\n",
       "      <td>1.0</td>\n",
       "      <td>[0.3066192600669786, 79.30661926006698, 0.0, 0...</td>\n",
       "    </tr>\n",
       "    <tr>\n",
       "      <th>44</th>\n",
       "      <td>1.0</td>\n",
       "      <td>[0.3508522579467478, 79.35085225794674, 0.0, 0...</td>\n",
       "    </tr>\n",
       "    <tr>\n",
       "      <th>49</th>\n",
       "      <td>1.0</td>\n",
       "      <td>[0.40592485791757416, 79.40592485791757, 0.0, ...</td>\n",
       "    </tr>\n",
       "    <tr>\n",
       "      <th>50</th>\n",
       "      <td>1.0</td>\n",
       "      <td>[0.0, 79.14956608965083, 0.14956608965082796, ...</td>\n",
       "    </tr>\n",
       "    <tr>\n",
       "      <th>52</th>\n",
       "      <td>1.0</td>\n",
       "      <td>[0.45319699339825126, 79.45319699339825, 0.0, ...</td>\n",
       "    </tr>\n",
       "    <tr>\n",
       "      <th>72</th>\n",
       "      <td>1.0</td>\n",
       "      <td>[0.6339436945302757, 79.63394369453027, 0.0, 0...</td>\n",
       "    </tr>\n",
       "    <tr>\n",
       "      <th>73</th>\n",
       "      <td>1.0</td>\n",
       "      <td>[0.6462283533712311, 79.64622835337123, 0.0, 0...</td>\n",
       "    </tr>\n",
       "    <tr>\n",
       "      <th>74</th>\n",
       "      <td>1.0</td>\n",
       "      <td>[0.0, 79.2222437957165, 0.22224379571649389, 0...</td>\n",
       "    </tr>\n",
       "    <tr>\n",
       "      <th>80</th>\n",
       "      <td>1.0</td>\n",
       "      <td>[0.0, 79.24436375750687, 0.0, 0.0, 0.755636242...</td>\n",
       "    </tr>\n",
       "    <tr>\n",
       "      <th>82</th>\n",
       "      <td>1.0</td>\n",
       "      <td>[0.0, 79.2493117034704, 0.0, 0.0, 0.7506882965...</td>\n",
       "    </tr>\n",
       "    <tr>\n",
       "      <th>83</th>\n",
       "      <td>1.0</td>\n",
       "      <td>[0.0, 79.30571438369583, 0.0, 0.0, 0.694285616...</td>\n",
       "    </tr>\n",
       "    <tr>\n",
       "      <th>88</th>\n",
       "      <td>1.0</td>\n",
       "      <td>[0.7605758667985455, 79.76057586679855, 0.0, 0...</td>\n",
       "    </tr>\n",
       "    <tr>\n",
       "      <th>96</th>\n",
       "      <td>1.0</td>\n",
       "      <td>[0.8198447667647031, 79.8198447667647, 0.0, 0....</td>\n",
       "    </tr>\n",
       "    <tr>\n",
       "      <th>104</th>\n",
       "      <td>1.0</td>\n",
       "      <td>[0.0, 79.37998367264312, 0.0, 0.0, 0.620016327...</td>\n",
       "    </tr>\n",
       "    <tr>\n",
       "      <th>138</th>\n",
       "      <td>1.0</td>\n",
       "      <td>[0.0, 79.40402365466889, 0.0, 0.0, 0.595976345...</td>\n",
       "    </tr>\n",
       "    <tr>\n",
       "      <th>144</th>\n",
       "      <td>1.0</td>\n",
       "      <td>[0.9429202732166825, 80.0, 0.05707972678331752...</td>\n",
       "    </tr>\n",
       "    <tr>\n",
       "      <th>146</th>\n",
       "      <td>1.0</td>\n",
       "      <td>[0.0, 79.40307303591221, 0.0, 0.0, 0.596926964...</td>\n",
       "    </tr>\n",
       "    <tr>\n",
       "      <th>155</th>\n",
       "      <td>1.0</td>\n",
       "      <td>[0.8918138308700073, 80.0, 0.0, 0.0, 0.8918138...</td>\n",
       "    </tr>\n",
       "    <tr>\n",
       "      <th>163</th>\n",
       "      <td>1.0</td>\n",
       "      <td>[0.8475121490016464, 80.0, 0.0, 0.0, 0.8475121...</td>\n",
       "    </tr>\n",
       "    <tr>\n",
       "      <th>167</th>\n",
       "      <td>1.0</td>\n",
       "      <td>[0.0, 79.46529468674905, 0.0, 0.0, 0.534705313...</td>\n",
       "    </tr>\n",
       "    <tr>\n",
       "      <th>175</th>\n",
       "      <td>1.0</td>\n",
       "      <td>[0.8596619533822882, 80.0, 0.0, 0.0, 0.8596619...</td>\n",
       "    </tr>\n",
       "    <tr>\n",
       "      <th>196</th>\n",
       "      <td>1.0</td>\n",
       "      <td>[0.0, 79.59502580896694, 0.0, 0.0, 0.404974191...</td>\n",
       "    </tr>\n",
       "    <tr>\n",
       "      <th>202</th>\n",
       "      <td>1.0</td>\n",
       "      <td>[0.7818432753213148, 80.0, 0.0, 0.0, 0.7818432...</td>\n",
       "    </tr>\n",
       "    <tr>\n",
       "      <th>...</th>\n",
       "      <td>...</td>\n",
       "      <td>...</td>\n",
       "    </tr>\n",
       "    <tr>\n",
       "      <th>51117</th>\n",
       "      <td>1.0</td>\n",
       "      <td>[0.0, 43.67443779534708, 0.7790729658911804, 0...</td>\n",
       "    </tr>\n",
       "    <tr>\n",
       "      <th>51119</th>\n",
       "      <td>1.0</td>\n",
       "      <td>[0.0, 45.127718763275126, 1.0, 0.8722812367248...</td>\n",
       "    </tr>\n",
       "    <tr>\n",
       "      <th>51122</th>\n",
       "      <td>1.0</td>\n",
       "      <td>[0.5440653001009949, 67.27967349949503, 0.5440...</td>\n",
       "    </tr>\n",
       "    <tr>\n",
       "      <th>51123</th>\n",
       "      <td>1.0</td>\n",
       "      <td>[0.0, 45.09722983019933, 1.0, 0.90277016980066...</td>\n",
       "    </tr>\n",
       "    <tr>\n",
       "      <th>51126</th>\n",
       "      <td>1.0</td>\n",
       "      <td>[0.0, 67.86369477910327, 0.30518646012810424, ...</td>\n",
       "    </tr>\n",
       "    <tr>\n",
       "      <th>51130</th>\n",
       "      <td>1.0</td>\n",
       "      <td>[0.0, 45.01668431661469, 0.9972192805642176, 0...</td>\n",
       "    </tr>\n",
       "    <tr>\n",
       "      <th>51131</th>\n",
       "      <td>1.0</td>\n",
       "      <td>[0.002210405972580709, 44.977895940274195, 0.9...</td>\n",
       "    </tr>\n",
       "    <tr>\n",
       "      <th>51134</th>\n",
       "      <td>1.0</td>\n",
       "      <td>[0.5157466645908788, 40.32678668950033, 0.4842...</td>\n",
       "    </tr>\n",
       "    <tr>\n",
       "      <th>51135</th>\n",
       "      <td>1.0</td>\n",
       "      <td>[0.4699335245896763, 37.1202659016413, 0.0, 0....</td>\n",
       "    </tr>\n",
       "    <tr>\n",
       "      <th>51136</th>\n",
       "      <td>1.0</td>\n",
       "      <td>[0.0, 69.26142430603396, 0.0, 0.0, 0.753808102...</td>\n",
       "    </tr>\n",
       "    <tr>\n",
       "      <th>51137</th>\n",
       "      <td>1.0</td>\n",
       "      <td>[0.0, 65.96221937322265, 0.4037780626777344, 0...</td>\n",
       "    </tr>\n",
       "    <tr>\n",
       "      <th>51143</th>\n",
       "      <td>1.0</td>\n",
       "      <td>[0.7224768838678253, 36.38761558066087, 0.0, 0...</td>\n",
       "    </tr>\n",
       "    <tr>\n",
       "      <th>51146</th>\n",
       "      <td>1.0</td>\n",
       "      <td>[0.312169527981773, 41.87830472018227, 0.68783...</td>\n",
       "    </tr>\n",
       "    <tr>\n",
       "      <th>51147</th>\n",
       "      <td>1.0</td>\n",
       "      <td>[0.3113244858152071, 68.44337757092397, 0.3113...</td>\n",
       "    </tr>\n",
       "    <tr>\n",
       "      <th>51148</th>\n",
       "      <td>1.0</td>\n",
       "      <td>[0.0, 67.29902927992585, 0.27009707200741473, ...</td>\n",
       "    </tr>\n",
       "    <tr>\n",
       "      <th>51149</th>\n",
       "      <td>1.0</td>\n",
       "      <td>[0.0, 69.5448060680297, 0.0, 0.0, 0.8482686893...</td>\n",
       "    </tr>\n",
       "    <tr>\n",
       "      <th>51152</th>\n",
       "      <td>1.0</td>\n",
       "      <td>[0.4944866533468695, 40.0551334665313, 0.50551...</td>\n",
       "    </tr>\n",
       "    <tr>\n",
       "      <th>51155</th>\n",
       "      <td>1.0</td>\n",
       "      <td>[0.0, 69.15998072311999, 0.12000275384000181, ...</td>\n",
       "    </tr>\n",
       "    <tr>\n",
       "      <th>51156</th>\n",
       "      <td>1.0</td>\n",
       "      <td>[0.5534375281951751, 39.46562471804825, 0.4465...</td>\n",
       "    </tr>\n",
       "    <tr>\n",
       "      <th>51158</th>\n",
       "      <td>1.0</td>\n",
       "      <td>[0.0, 69.80597403729676, 0.09701298135161995, ...</td>\n",
       "    </tr>\n",
       "    <tr>\n",
       "      <th>51159</th>\n",
       "      <td>1.0</td>\n",
       "      <td>[0.0, 68.8359309383241, 0.11640690616759042, 0...</td>\n",
       "    </tr>\n",
       "    <tr>\n",
       "      <th>51160</th>\n",
       "      <td>1.0</td>\n",
       "      <td>[0.8942795989645548, 35.0, 0.0, 0.894279598964...</td>\n",
       "    </tr>\n",
       "    <tr>\n",
       "      <th>51162</th>\n",
       "      <td>1.0</td>\n",
       "      <td>[0.844464432720942, 35.62214226911623, 0.0, 0....</td>\n",
       "    </tr>\n",
       "    <tr>\n",
       "      <th>51163</th>\n",
       "      <td>1.0</td>\n",
       "      <td>[0.8763472597204754, 35.4946109611181, 0.0, 0....</td>\n",
       "    </tr>\n",
       "    <tr>\n",
       "      <th>51164</th>\n",
       "      <td>1.0</td>\n",
       "      <td>[0.9324809586138765, 35.337595206930615, 0.0, ...</td>\n",
       "    </tr>\n",
       "    <tr>\n",
       "      <th>51166</th>\n",
       "      <td>1.0</td>\n",
       "      <td>[0.8326918163406221, 36.67308183659378, 0.1673...</td>\n",
       "    </tr>\n",
       "    <tr>\n",
       "      <th>51168</th>\n",
       "      <td>1.0</td>\n",
       "      <td>[0.0, 69.89623278367168, 0.0148238880469026, 0...</td>\n",
       "    </tr>\n",
       "    <tr>\n",
       "      <th>51169</th>\n",
       "      <td>1.0</td>\n",
       "      <td>[0.0, 70.0, 0.0, 0.0, 1.0, 0.75, 65.45]</td>\n",
       "    </tr>\n",
       "    <tr>\n",
       "      <th>51170</th>\n",
       "      <td>1.0</td>\n",
       "      <td>[0.924697370973515, 35.75302629026485, 0.07530...</td>\n",
       "    </tr>\n",
       "    <tr>\n",
       "      <th>51172</th>\n",
       "      <td>1.0</td>\n",
       "      <td>[0.9816541483052074, 35.07338340677917, 0.0, 0...</td>\n",
       "    </tr>\n",
       "  </tbody>\n",
       "</table>\n",
       "<p>25579 rows × 2 columns</p>\n",
       "</div>"
      ],
      "text/plain": [
       "       label                                           features\n",
       "18       1.0             [0.0, 79.0, 0.0, 0.0, 1.0, 1.0, 13.09]\n",
       "19       1.0  [0.015105942171135145, 79.01510594217113, 0.0,...\n",
       "24       1.0  [0.04232542611935419, 79.04232542611935, 0.0, ...\n",
       "28       1.0  [0.1301288902457941, 79.1301288902458, 0.0, 0....\n",
       "32       1.0  [0.0, 79.06143731388894, 0.06143731388894791, ...\n",
       "35       1.0  [0.0, 79.08104546036333, 0.08104546036332594, ...\n",
       "41       1.0  [0.3044429993694, 79.3044429993694, 0.0, 0.0, ...\n",
       "42       1.0  [0.3066192600669786, 79.30661926006698, 0.0, 0...\n",
       "44       1.0  [0.3508522579467478, 79.35085225794674, 0.0, 0...\n",
       "49       1.0  [0.40592485791757416, 79.40592485791757, 0.0, ...\n",
       "50       1.0  [0.0, 79.14956608965083, 0.14956608965082796, ...\n",
       "52       1.0  [0.45319699339825126, 79.45319699339825, 0.0, ...\n",
       "72       1.0  [0.6339436945302757, 79.63394369453027, 0.0, 0...\n",
       "73       1.0  [0.6462283533712311, 79.64622835337123, 0.0, 0...\n",
       "74       1.0  [0.0, 79.2222437957165, 0.22224379571649389, 0...\n",
       "80       1.0  [0.0, 79.24436375750687, 0.0, 0.0, 0.755636242...\n",
       "82       1.0  [0.0, 79.2493117034704, 0.0, 0.0, 0.7506882965...\n",
       "83       1.0  [0.0, 79.30571438369583, 0.0, 0.0, 0.694285616...\n",
       "88       1.0  [0.7605758667985455, 79.76057586679855, 0.0, 0...\n",
       "96       1.0  [0.8198447667647031, 79.8198447667647, 0.0, 0....\n",
       "104      1.0  [0.0, 79.37998367264312, 0.0, 0.0, 0.620016327...\n",
       "138      1.0  [0.0, 79.40402365466889, 0.0, 0.0, 0.595976345...\n",
       "144      1.0  [0.9429202732166825, 80.0, 0.05707972678331752...\n",
       "146      1.0  [0.0, 79.40307303591221, 0.0, 0.0, 0.596926964...\n",
       "155      1.0  [0.8918138308700073, 80.0, 0.0, 0.0, 0.8918138...\n",
       "163      1.0  [0.8475121490016464, 80.0, 0.0, 0.0, 0.8475121...\n",
       "167      1.0  [0.0, 79.46529468674905, 0.0, 0.0, 0.534705313...\n",
       "175      1.0  [0.8596619533822882, 80.0, 0.0, 0.0, 0.8596619...\n",
       "196      1.0  [0.0, 79.59502580896694, 0.0, 0.0, 0.404974191...\n",
       "202      1.0  [0.7818432753213148, 80.0, 0.0, 0.0, 0.7818432...\n",
       "...      ...                                                ...\n",
       "51117    1.0  [0.0, 43.67443779534708, 0.7790729658911804, 0...\n",
       "51119    1.0  [0.0, 45.127718763275126, 1.0, 0.8722812367248...\n",
       "51122    1.0  [0.5440653001009949, 67.27967349949503, 0.5440...\n",
       "51123    1.0  [0.0, 45.09722983019933, 1.0, 0.90277016980066...\n",
       "51126    1.0  [0.0, 67.86369477910327, 0.30518646012810424, ...\n",
       "51130    1.0  [0.0, 45.01668431661469, 0.9972192805642176, 0...\n",
       "51131    1.0  [0.002210405972580709, 44.977895940274195, 0.9...\n",
       "51134    1.0  [0.5157466645908788, 40.32678668950033, 0.4842...\n",
       "51135    1.0  [0.4699335245896763, 37.1202659016413, 0.0, 0....\n",
       "51136    1.0  [0.0, 69.26142430603396, 0.0, 0.0, 0.753808102...\n",
       "51137    1.0  [0.0, 65.96221937322265, 0.4037780626777344, 0...\n",
       "51143    1.0  [0.7224768838678253, 36.38761558066087, 0.0, 0...\n",
       "51146    1.0  [0.312169527981773, 41.87830472018227, 0.68783...\n",
       "51147    1.0  [0.3113244858152071, 68.44337757092397, 0.3113...\n",
       "51148    1.0  [0.0, 67.29902927992585, 0.27009707200741473, ...\n",
       "51149    1.0  [0.0, 69.5448060680297, 0.0, 0.0, 0.8482686893...\n",
       "51152    1.0  [0.4944866533468695, 40.0551334665313, 0.50551...\n",
       "51155    1.0  [0.0, 69.15998072311999, 0.12000275384000181, ...\n",
       "51156    1.0  [0.5534375281951751, 39.46562471804825, 0.4465...\n",
       "51158    1.0  [0.0, 69.80597403729676, 0.09701298135161995, ...\n",
       "51159    1.0  [0.0, 68.8359309383241, 0.11640690616759042, 0...\n",
       "51160    1.0  [0.8942795989645548, 35.0, 0.0, 0.894279598964...\n",
       "51162    1.0  [0.844464432720942, 35.62214226911623, 0.0, 0....\n",
       "51163    1.0  [0.8763472597204754, 35.4946109611181, 0.0, 0....\n",
       "51164    1.0  [0.9324809586138765, 35.337595206930615, 0.0, ...\n",
       "51166    1.0  [0.8326918163406221, 36.67308183659378, 0.1673...\n",
       "51168    1.0  [0.0, 69.89623278367168, 0.0148238880469026, 0...\n",
       "51169    1.0            [0.0, 70.0, 0.0, 0.0, 1.0, 0.75, 65.45]\n",
       "51170    1.0  [0.924697370973515, 35.75302629026485, 0.07530...\n",
       "51172    1.0  [0.9816541483052074, 35.07338340677917, 0.0, 0...\n",
       "\n",
       "[25579 rows x 2 columns]"
      ]
     },
     "execution_count": 62,
     "metadata": {},
     "output_type": "execute_result"
    }
   ],
   "source": [
    "testData_1.loc[testData_1['label'] == 1]"
   ]
  },
  {
   "cell_type": "code",
   "execution_count": 58,
   "metadata": {},
   "outputs": [],
   "source": [
    "# from pyspark.ml.feature import VectorIndexer\n",
    "\n",
    "# indexer = VectorIndexer(inputCol=\"featureColumns\", outputCol=\"indexed\", maxCategories=10)\n",
    "# indexerModel = indexer.fit(binarizedDF)"
   ]
  },
  {
   "cell_type": "code",
   "execution_count": 59,
   "metadata": {},
   "outputs": [],
   "source": [
    "# categoricalFeatures = indexerModel.categoryMaps\n",
    "# print(\"Chose %d categorical features: %s\" %\n",
    "#       (len(categoricalFeatures), \", \".join(str(k) for k in categoricalFeatures.keys())))\n"
   ]
  },
  {
   "cell_type": "code",
   "execution_count": 60,
   "metadata": {},
   "outputs": [],
   "source": [
    "# indexedData = indexerModel.transform(trainingData)\n",
    "# indexedData_1 = indexedData.drop(\"features\")\n",
    "# indexedData_1.show()"
   ]
  },
  {
   "cell_type": "code",
   "execution_count": 61,
   "metadata": {},
   "outputs": [],
   "source": [
    "# df = spark.read.format('com.databricks.spark.csv').options(header='true', inferschema='true').load(input_dir+'stroke_100K_1.csv')\n",
    "\n",
    "# classifier = DecisionTreeClassifier(labelCol=\"label\", featuresCol=\"indexed\", maxDepth=25, minInstancesPerNode=30, impurity=\"gini\")\n",
    "# pipeline = Pipeline(stages = [classifier])\n",
    "# pipelineModel = pipeline.fit(indexedData_1)"
   ]
  },
  {
   "cell_type": "code",
   "execution_count": 62,
   "metadata": {
    "scrolled": true
   },
   "outputs": [],
   "source": [
    "# from pyspark2pmml import PMMLBuilder\n",
    "\n",
    "# pmmlBuilder = PMMLBuilder(sc, df, pipelineModel) \\\n",
    "# \t.putOption(classifier, \"compact\", True)\n",
    "\n",
    "# pmmlBuilder.buildFile(\"DecisionTree.pmml\")"
   ]
  },
  {
   "cell_type": "code",
   "execution_count": 58,
   "metadata": {},
   "outputs": [
    {
     "name": "stdout",
     "output_type": "stream",
     "text": [
      "DataFrame[BMI: double, age: double, diabetes: double, gender: double, heart disease: double, hypertension: double, smoking history: double, label: double, features: vector]\n"
     ]
    }
   ],
   "source": [
    "print(trainingData)"
   ]
  },
  {
   "cell_type": "code",
   "execution_count": 59,
   "metadata": {},
   "outputs": [],
   "source": [
    "trainingData = trainingData.drop(\"features\")"
   ]
  },
  {
   "cell_type": "code",
   "execution_count": 60,
   "metadata": {},
   "outputs": [
    {
     "name": "stdout",
     "output_type": "stream",
     "text": [
      "DataFrame[BMI: double, age: double, diabetes: double, gender: double, heart disease: double, hypertension: double, smoking history: double, label: double]\n"
     ]
    }
   ],
   "source": [
    "print(trainingData)"
   ]
  },
  {
   "cell_type": "code",
   "execution_count": null,
   "metadata": {},
   "outputs": [],
   "source": []
  },
  {
   "cell_type": "code",
   "execution_count": 62,
   "metadata": {},
   "outputs": [],
   "source": [
    "from pyspark.ml.feature import RFormula\n",
    "\n",
    "formula = RFormula(formula = \"label ~ .\")\n",
    "classifier = DecisionTreeClassifier(maxDepth=25, minInstancesPerNode=30, impurity=\"gini\")\n",
    "pipeline = Pipeline(stages = [formula, classifier])\n",
    "pipelineModel = pipeline.fit(trainingData)"
   ]
  },
  {
   "cell_type": "code",
   "execution_count": 63,
   "metadata": {},
   "outputs": [
    {
     "data": {
      "text/plain": [
       "'/home/yashwanthmadaka_imp24/dt-stroke.pmml'"
      ]
     },
     "execution_count": 63,
     "metadata": {},
     "output_type": "execute_result"
    }
   ],
   "source": [
    "from pyspark2pmml import PMMLBuilder\n",
    "\n",
    "pmmlBuilder = PMMLBuilder(sc, trainingData, pipelineModel) \\\n",
    "\t.putOption(classifier, \"compact\", True)\n",
    "\n",
    "pmmlBuilder.buildFile(\"dt-stroke.pmml\")"
   ]
  },
  {
   "cell_type": "code",
   "execution_count": null,
   "metadata": {},
   "outputs": [],
   "source": []
  },
  {
   "cell_type": "code",
   "execution_count": null,
   "metadata": {},
   "outputs": [],
   "source": []
  }
 ],
 "metadata": {
  "kernelspec": {
   "display_name": "Python 3",
   "language": "python",
   "name": "python3"
  },
  "language_info": {
   "codemirror_mode": {
    "name": "ipython",
    "version": 3
   },
   "file_extension": ".py",
   "mimetype": "text/x-python",
   "name": "python",
   "nbconvert_exporter": "python",
   "pygments_lexer": "ipython3",
   "version": "3.6.5"
  }
 },
 "nbformat": 4,
 "nbformat_minor": 1
}